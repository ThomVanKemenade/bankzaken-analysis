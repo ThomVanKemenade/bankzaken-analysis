{
 "cells": [
  {
   "cell_type": "markdown",
   "id": "5b534b20",
   "metadata": {},
   "source": [
    "# Bank Transaction Analysis\n",
    "\n",
    "This notebook provides an interactive way to analyze bank transaction data.\n",
    "\n",
    "## Overview\n",
    "- Load transaction data from CSV files\n",
    "- Clean and process the data\n",
    "- Perform analysis and categorization\n",
    "- Create visualizations\n",
    "- Generate insights and summaries"
   ]
  },
  {
   "cell_type": "markdown",
   "id": "4a29d7f4",
   "metadata": {},
   "source": [
    "## 1. Setup and Imports"
   ]
  },
  {
   "cell_type": "code",
   "execution_count": null,
   "id": "8c5ba5f2",
   "metadata": {},
   "outputs": [],
   "source": [
    "# Import required libraries\n",
    "import pandas as pd\n",
    "import numpy as np\n",
    "import matplotlib.pyplot as plt\n",
    "import seaborn as sns\n",
    "from pathlib import Path\n",
    "import sys\n",
    "import warnings\n",
    "\n",
    "# Suppress warnings for cleaner output\n",
    "warnings.filterwarnings('ignore')\n",
    "\n",
    "# Add src directory to path\n",
    "sys.path.append('../src')\n",
    "\n",
    "# Import our custom modules\n",
    "from data_processor import BankDataProcessor\n",
    "from analyzer import TransactionAnalyzer\n",
    "from visualizer import DataVisualizer\n",
    "\n",
    "# Set up plotting\n",
    "plt.style.use('seaborn-v0_8')\n",
    "sns.set_palette(\"husl\")\n",
    "%matplotlib inline\n",
    "\n",
    "print(\"Setup complete!\")"
   ]
  },
  {
   "cell_type": "markdown",
   "id": "c8f34e90",
   "metadata": {},
   "source": [
    "## 2. Load and Process Data"
   ]
  },
  {
   "cell_type": "code",
   "execution_count": null,
   "id": "4c1c1a24",
   "metadata": {},
   "outputs": [],
   "source": [
    "# Define data paths\n",
    "data_dir = Path(\"../../Transacties\")\n",
    "excel_file = Path(\"../../Bankzaken.xlsx\")\n",
    "\n",
    "# Check if data files exist\n",
    "print(f\"Data directory exists: {data_dir.exists()}\")\n",
    "print(f\"Excel file exists: {excel_file.exists()}\")\n",
    "\n",
    "if data_dir.exists():\n",
    "    csv_files = list(data_dir.glob(\"*.csv\"))\n",
    "    print(f\"Found {len(csv_files)} CSV files:\")\n",
    "    for file in csv_files:\n",
    "        print(f\"  - {file.name}\")\n",
    "else:\n",
    "    print(\"⚠️ Data directory not found. Please ensure CSV files are in '../Transacties'\")"
   ]
  },
  {
   "cell_type": "code",
   "execution_count": null,
   "id": "e72f7c76",
   "metadata": {},
   "outputs": [],
   "source": [
    "# Initialize processor and load data\n",
    "if data_dir.exists():\n",
    "    processor = BankDataProcessor(data_dir)\n",
    "    \n",
    "    # Load CSV files\n",
    "    dataframes = processor.load_csv_files()\n",
    "    \n",
    "    if dataframes:\n",
    "        # Combine all data\n",
    "        combined_data = processor.combine_dataframes(dataframes)\n",
    "        \n",
    "        # Clean the data\n",
    "        clean_data = processor.clean_data(combined_data)\n",
    "        \n",
    "        print(f\"Successfully loaded and cleaned data:\")\n",
    "        print(f\"  - Total transactions: {len(clean_data)}\")\n",
    "        print(f\"  - Columns: {list(clean_data.columns)}\")\n",
    "        print(f\"  - Date range: {clean_data['date'].min()} to {clean_data['date'].max()}\")\n",
    "    else:\n",
    "        print(\"No data loaded\")\n",
    "        clean_data = pd.DataFrame()\n",
    "else:\n",
    "    print(\"Skipping data loading - data directory not found\")\n",
    "    clean_data = pd.DataFrame()"
   ]
  },
  {
   "cell_type": "markdown",
   "id": "15420121",
   "metadata": {},
   "source": [
    "## 3. Data Exploration"
   ]
  },
  {
   "cell_type": "code",
   "execution_count": null,
   "id": "db72e63d",
   "metadata": {},
   "outputs": [],
   "source": [
    "# Display first few rows\n",
    "if not clean_data.empty:\n",
    "    print(\"First 5 transactions:\")\n",
    "    display(clean_data.head())\n",
    "    \n",
    "    print(\"\\nData info:\")\n",
    "    print(clean_data.info())\n",
    "    \n",
    "    print(\"\\nBasic statistics:\")\n",
    "    display(clean_data.describe())\n",
    "else:\n",
    "    print(\"No data to explore\")"
   ]
  },
  {
   "cell_type": "code",
   "execution_count": null,
   "id": "60efc963",
   "metadata": {},
   "outputs": [],
   "source": [
    "# Check for missing values\n",
    "if not clean_data.empty:\n",
    "    print(\"Missing values:\")\n",
    "    missing = clean_data.isnull().sum()\n",
    "    print(missing[missing > 0])\n",
    "    \n",
    "    if missing.sum() == 0:\n",
    "        print(\"✅ No missing values found\")\n",
    "else:\n",
    "    print(\"No data to check\")"
   ]
  },
  {
   "cell_type": "markdown",
   "id": "8b4c0ef8",
   "metadata": {},
   "source": [
    "## 4. Transaction Analysis"
   ]
  },
  {
   "cell_type": "code",
   "execution_count": null,
   "id": "56842bc8",
   "metadata": {},
   "outputs": [],
   "source": [
    "# Initialize analyzer\n",
    "if not clean_data.empty:\n",
    "    analyzer = TransactionAnalyzer(clean_data)\n",
    "    \n",
    "    # Get summary statistics\n",
    "    summary_stats = analyzer.get_summary_stats()\n",
    "    \n",
    "    print(\"📊 Summary Statistics:\")\n",
    "    print(f\"  Total Transactions: {summary_stats.get('total_transactions', 'N/A')}\")\n",
    "    print(f\"  Total Income: €{summary_stats.get('total_income', 0):.2f}\")\n",
    "    print(f\"  Total Expenses: €{abs(summary_stats.get('total_expenses', 0)):.2f}\")\n",
    "    print(f\"  Net Amount: €{summary_stats.get('net_amount', 0):.2f}\")\n",
    "    print(f\"  Average Transaction: €{summary_stats.get('avg_transaction', 0):.2f}\")\n",
    "    print(f\"  Analysis Period: {summary_stats.get('analysis_period_days', 'N/A')} days\")\n",
    "else:\n",
    "    print(\"No data for analysis\")"
   ]
  },
  {
   "cell_type": "code",
   "execution_count": null,
   "id": "57da8fd4",
   "metadata": {},
   "outputs": [],
   "source": [
    "# Monthly summary\n",
    "if not clean_data.empty:\n",
    "    monthly_summary = analyzer.monthly_summary()\n",
    "    \n",
    "    print(\"📅 Monthly Summary:\")\n",
    "    display(monthly_summary)\n",
    "else:\n",
    "    print(\"No data for monthly summary\")"
   ]
  },
  {
   "cell_type": "code",
   "execution_count": null,
   "id": "3908994c",
   "metadata": {},
   "outputs": [],
   "source": [
    "# Transaction categorization\n",
    "if not clean_data.empty:\n",
    "    category_summary = analyzer.categorize_transactions()\n",
    "    \n",
    "    print(\"🏷️ Transaction Categories:\")\n",
    "    display(category_summary)\n",
    "else:\n",
    "    print(\"No data for categorization\")"
   ]
  },
  {
   "cell_type": "markdown",
   "id": "afd86cd9",
   "metadata": {},
   "source": [
    "## 5. Visualizations"
   ]
  },
  {
   "cell_type": "code",
   "execution_count": null,
   "id": "461519f0",
   "metadata": {},
   "outputs": [],
   "source": [
    "# Create visualizer\n",
    "if not clean_data.empty:\n",
    "    visualizer = DataVisualizer(clean_data)\n",
    "    \n",
    "    # Monthly spending chart\n",
    "    print(\"Creating monthly spending chart...\")\n",
    "    visualizer.create_monthly_spending_chart()\n",
    "    \n",
    "    # Display the chart in notebook\n",
    "    fig, ax = plt.subplots(figsize=(12, 6))\n",
    "    \n",
    "    # Prepare monthly data for inline display\n",
    "    monthly_data = clean_data.copy()\n",
    "    monthly_data['year_month'] = monthly_data['date'].dt.to_period('M')\n",
    "    \n",
    "    # Income and expenses\n",
    "    income_data = monthly_data[monthly_data['amount'] > 0].groupby('year_month')['amount'].sum()\n",
    "    expense_data = monthly_data[monthly_data['amount'] < 0].groupby('year_month')['amount'].sum().abs()\n",
    "    \n",
    "    # Plot\n",
    "    x_labels = [str(period) for period in income_data.index.union(expense_data.index)]\n",
    "    income_values = [income_data.get(period, 0) for period in income_data.index.union(expense_data.index)]\n",
    "    expense_values = [expense_data.get(period, 0) for period in income_data.index.union(expense_data.index)]\n",
    "    \n",
    "    ax.bar(x_labels, income_values, alpha=0.7, label='Income', color='green')\n",
    "    ax.bar(x_labels, [-x for x in expense_values], alpha=0.7, label='Expenses', color='red')\n",
    "    \n",
    "    ax.set_title('Monthly Income vs Expenses')\n",
    "    ax.set_ylabel('Amount (€)')\n",
    "    ax.legend()\n",
    "    plt.xticks(rotation=45)\n",
    "    plt.tight_layout()\n",
    "    plt.show()\n",
    "else:\n",
    "    print(\"No data for visualizations\")"
   ]
  },
  {
   "cell_type": "code",
   "execution_count": null,
   "id": "7b777ab1",
   "metadata": {},
   "outputs": [],
   "source": [
    "# Category pie chart\n",
    "if not clean_data.empty and 'category_summary' in locals():\n",
    "    print(\"Creating category pie chart...\")\n",
    "    \n",
    "    # Filter significant categories (>1% of total)\n",
    "    total_amount = category_summary['total_abs_amount'].sum()\n",
    "    significant_categories = category_summary[category_summary['total_abs_amount'] >= total_amount * 0.01]\n",
    "    \n",
    "    if not significant_categories.empty:\n",
    "        fig, ax = plt.subplots(figsize=(10, 8))\n",
    "        \n",
    "        wedges, texts, autotexts = ax.pie(\n",
    "            significant_categories['total_abs_amount'], \n",
    "            labels=significant_categories['category'],\n",
    "            autopct='%1.1f%%',\n",
    "            startangle=90\n",
    "        )\n",
    "        \n",
    "        ax.set_title('Spending by Category')\n",
    "        plt.show()\n",
    "    else:\n",
    "        print(\"No significant categories to display\")\n",
    "else:\n",
    "    print(\"No category data for pie chart\")"
   ]
  },
  {
   "cell_type": "markdown",
   "id": "ea8d0562",
   "metadata": {},
   "source": [
    "## 6. Advanced Analysis"
   ]
  },
  {
   "cell_type": "code",
   "execution_count": null,
   "id": "b441e297",
   "metadata": {},
   "outputs": [],
   "source": [
    "# Find unusual transactions\n",
    "if not clean_data.empty:\n",
    "    unusual_transactions = analyzer.find_unusual_transactions(threshold_multiplier=2.5)\n",
    "    \n",
    "    print(f\"🔍 Found {len(unusual_transactions)} unusual transactions:\")\n",
    "    if not unusual_transactions.empty:\n",
    "        display(unusual_transactions[['date', 'amount', 'description']].head(10))\n",
    "    else:\n",
    "        print(\"No unusual transactions found\")\n",
    "else:\n",
    "    print(\"No data for unusual transaction analysis\")"
   ]
  },
  {
   "cell_type": "code",
   "execution_count": null,
   "id": "41001db1",
   "metadata": {},
   "outputs": [],
   "source": [
    "# Spending trends\n",
    "if not clean_data.empty:\n",
    "    spending_trends = analyzer.spending_trends()\n",
    "    \n",
    "    print(\"📈 Spending Trends (last 10 weeks):\")\n",
    "    if not spending_trends.empty:\n",
    "        display(spending_trends.tail(10))\n",
    "        \n",
    "        # Plot trends\n",
    "        fig, ax = plt.subplots(figsize=(12, 6))\n",
    "        ax.plot(spending_trends.index, spending_trends['weekly_total'], \n",
    "               marker='o', alpha=0.6, label='Weekly Total')\n",
    "        ax.plot(spending_trends.index, spending_trends['rolling_4w_avg'], \n",
    "               linewidth=2, label='4-Week Average')\n",
    "        \n",
    "        ax.set_title('Weekly Spending Trends')\n",
    "        ax.set_ylabel('Amount (€)')\n",
    "        ax.legend()\n",
    "        ax.grid(True, alpha=0.3)\n",
    "        plt.show()\n",
    "    else:\n",
    "        print(\"No trend data available\")\n",
    "else:\n",
    "    print(\"No data for spending trends\")"
   ]
  },
  {
   "cell_type": "markdown",
   "id": "7ed68776",
   "metadata": {},
   "source": [
    "## 7. Export Results"
   ]
  },
  {
   "cell_type": "code",
   "execution_count": null,
   "id": "5c925c39",
   "metadata": {},
   "outputs": [],
   "source": [
    "# Export analysis results\n",
    "if not clean_data.empty:\n",
    "    output_dir = Path(\"../output\")\n",
    "    output_dir.mkdir(exist_ok=True)\n",
    "    \n",
    "    # Save summary data\n",
    "    if 'monthly_summary' in locals():\n",
    "        monthly_summary.to_csv(output_dir / \"monthly_summary.csv\", index=False)\n",
    "        print(f\"✅ Monthly summary saved to {output_dir / 'monthly_summary.csv'}\")\n",
    "    \n",
    "    if 'category_summary' in locals():\n",
    "        category_summary.to_csv(output_dir / \"category_summary.csv\", index=False)\n",
    "        print(f\"✅ Category summary saved to {output_dir / 'category_summary.csv'}\")\n",
    "    \n",
    "    if 'spending_trends' in locals():\n",
    "        spending_trends.to_csv(output_dir / \"spending_trends.csv\", index=False)\n",
    "        print(f\"✅ Spending trends saved to {output_dir / 'spending_trends.csv'}\")\n",
    "    \n",
    "    # Save processed data\n",
    "    clean_data.to_csv(output_dir / \"processed_transactions.csv\", index=False)\n",
    "    print(f\"✅ Processed data saved to {output_dir / 'processed_transactions.csv'}\")\n",
    "    \n",
    "    print(f\"\\n📁 All results saved to: {output_dir.absolute()}\")\n",
    "else:\n",
    "    print(\"No data to export\")"
   ]
  },
  {
   "cell_type": "markdown",
   "id": "451678e7",
   "metadata": {},
   "source": [
    "## 8. Summary and Next Steps\n",
    "\n",
    "This notebook has provided a comprehensive analysis of your bank transaction data including:\n",
    "\n",
    "1. **Data Loading**: Imported and cleaned transaction data from CSV files\n",
    "2. **Analysis**: Generated monthly summaries, categorized transactions, and identified trends\n",
    "3. **Visualizations**: Created charts to visualize spending patterns\n",
    "4. **Insights**: Found unusual transactions and spending trends\n",
    "5. **Export**: Saved all results for further use\n",
    "\n",
    "### Next Steps:\n",
    "- Review the generated charts and summaries\n",
    "- Adjust category rules in `config/settings.py` to better match your data\n",
    "- Run the main analysis script: `python src/main.py`\n",
    "- Explore additional analysis options in the source code\n",
    "\n",
    "### Files Generated:\n",
    "- `output/monthly_summary.csv` - Monthly transaction summaries\n",
    "- `output/category_summary.csv` - Spending by category\n",
    "- `output/spending_trends.csv` - Weekly spending trends\n",
    "- `output/processed_transactions.csv` - Clean transaction data\n",
    "- Various chart files in PNG format"
   ]
  }
 ],
 "metadata": {
  "language_info": {
   "name": "python"
  }
 },
 "nbformat": 4,
 "nbformat_minor": 5
}
